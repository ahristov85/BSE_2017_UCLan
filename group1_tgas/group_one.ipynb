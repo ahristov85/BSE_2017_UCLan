{
 "cells": [
  {
   "cell_type": "code",
   "execution_count": 3,
   "metadata": {
    "collapsed": true,
    "deletable": true,
    "editable": true
   },
   "outputs": [],
   "source": [
    "from astropy.table import Table\n",
    "import numpy as np\n",
    "import os"
   ]
  },
  {
   "cell_type": "code",
   "execution_count": 4,
   "metadata": {
    "collapsed": false
   },
   "outputs": [],
   "source": [
    "data_dir = '/home/nandir/git_repos/BSE_TS2017_UCLan/group1_tgas/'\n",
    "os.chdir(data_dir)\n",
    "rave_data = Table.read('RAVE_DR5.fits')\n",
    "rave_tgas_data = Table.read('RAVE_TGAS.fits')"
   ]
  },
  {
   "cell_type": "code",
   "execution_count": 6,
   "metadata": {
    "collapsed": false
   },
   "outputs": [
    {
     "name": "stdout",
     "output_type": "stream",
     "text": [
      "['RAVE_OBS_ID', 'HEALPix', 'RAVEID', 'RAdeg', 'DEdeg', 'Glon', 'Glat', 'HRV', 'eHRV', 'StdDev_HRV', 'MAD_HRV', 'STN_SPARV', 'SNR_K', 'Teff_K', 'Teff_N_K', 'eTeff_K', 'MAD_Teff_K', 'StdDev_Teff_K', 'logg_K', 'logg_N_K', 'elogg_K', 'MAD_logg_K', 'StdDev_logg_K', 'Met_K', 'Met_N_K', 'eMet_K', 'MAD_Met_K', 'StdDev_Met_K', 'CHISQ_K', 'Algo_Conv_K', 'Teff_IR', 'eTeff_IR', 'IR_direct', 'Mg', 'Mg_N', 'Al', 'Al_N', 'Si', 'Si_N', 'Ti', 'Ti_N', 'Fe', 'Fe_N', 'Ni', 'Ni_N', 'Alpha_c', 'CHISQ_c', 'frac_c', 'AV_Schlegel', 'distance', 'edistance', 'log_Av', 'elog_Av', 'parallax', 'eparallax', 'DistanceModulus_Binney', 'eDistanceModulus_Binney', 'Fit_Flag_Binney', 'FitQuality_Binney', 'N_Gauss_fit', 'Gauss_mean_1', 'Gauss_sigma_1', 'Gauss_frac_1', 'Gauss_mean_2', 'Gauss_sigma_2', 'Gauss_frac_2', 'Gauss_mean_3', 'Gauss_sigma_3', 'Gauss_frac_3', 'c1', 'c2', 'c3', 'c4', 'c5', 'c6', 'c7', 'c8', 'c9', 'c10', 'c11', 'c12', 'c13', 'c14', 'c15', 'c16', 'c17', 'c18', 'c19', 'c20', 'Rep_Flag', 'CluStar_Flag', 'FootPrint_Flag', 'ID_TGAS_source', 'MatchFlag_TGAS', 'RA_TGAS', 'DE_TGAS', 'pmRA_TGAS', 'pmRA_error_TGAS', 'pmDE_TGAS', 'pmDE_error_TGAS', 'parallax_TGAS', 'parallax_error_TGAS', 'phot_g_mean_mag_TGAS', 'phot_g_mean_flux_TGAS', 'phot_g_mean_flux_error_TGAS', 'ID_Hipparcos', 'ID_TYCHO2', 'Dist_TYCHO2', 'MatchFlag_TYCHO2', 'BTmag_TYCHO2', 'eBTmag_TYCHO2', 'VTmag_TYCHO2', 'eVTmag_TYCHO2', 'pmRA_TYCHO2', 'epmRA_TYCHO2', 'pmDE_TYCHO2', 'epmDE_TYCHO2', 'ID_UCAC4', 'Dist_UCAC4', 'MatchFlag_UCAC4', 'pmRA_UCAC4', 'epmRA_UCAC4', 'pmDE_UCAC4', 'epmDE_UCAC4', 'ID_PPMXL', 'Dist_PPMXL', 'MatchFlag_PPMXL', 'pmRA_PPMXL', 'epmRA_PPMXL', 'pmDE_PPMXL', 'epmDE_PPMXL', 'ID_2MASS', 'Dist_2MASS', 'MatchFlag_2MASS', 'Jmag_2MASS', 'eJmag_2MASS', 'Hmag_2MASS', 'eHmag_2MASS', 'Kmag_2MASS', 'eKmag_2MASS', 'ID_ALLWISE', 'Dist_ALLWISE', 'MatchFlag_ALLWISE', 'W1mag_ALLWISE', 'eW1mag_ALLWISE', 'W2mag_ALLWISE', 'eW2mag_ALLWISE', 'W3mag_ALLWISE', 'eW3mag_ALLWISE', 'W4mag_ALLWISE', 'eW4mag_ALLWISE', 'cc_flags_ALLWISE', 'ext_flg_ALLWISE', 'var_flg_ALLWISE', 'ph_qual_ALLWISE', 'Dist_APASSDR9', 'MatchFlag_APASSDR9', 'Bmag_APASSDR9', 'eBmag_APASSDR9', 'Vmag_APASSDR9', 'eVmag_APASSDR9', 'gpmag_APASSDR9', 'egpmag_APASSDR9', 'rpmag_APASSDR9', 'erpmag_APASSDR9', 'ipmag_APASSDR9', 'eipmag_APASSDR9', 'ID_DENIS', 'Dist_DENIS', 'MatchFlag_DENIS', 'Imag_DENIS', 'eImag_DENIS', 'Jmag_DENIS', 'eJmag_DENIS', 'Kmag_DENIS', 'eKmag_DENIS', 'ID_USNOB1', 'Dist_USNOB1', 'MatchFlag_USNOB1', 'B1mag_USNOB1', 'R1mag_USNOB1', 'B2mag_USNOB1', 'R2mag_USNOB1', 'Imag_USNOB1', 'pmRA_USNOB1', 'epmRA_USNOB1', 'pmDE_USNOB1', 'epmDE_USNOB1', 'Obsdate', 'FieldName', 'FiberNumber', 'PlateNumber', 'MJD_OBS', 'LST_start', 'LST_end', 'UTC_start', 'UTC_end']\n",
      "['RAVE_OBS_ID', 'MatchFlag_TGAS', 'hip', 'tycho2_id', 'solution_id', 'source_id', 'random_index', 'ref_epoch', 'ra', 'ra_error', 'dec', 'dec_error', 'parallax', 'parallax_error', 'pmra', 'pmra_error', 'pmdec', 'pmdec_error', 'ra_dec_corr', 'ra_parallax_corr', 'ra_pmra_corr', 'ra_pmdec_corr', 'dec_parallax_corr', 'dec_pmra_corr', 'dec_pmdec_corr', 'parallax_pmra_corr', 'parallax_pmdec_corr', 'pmra_pmdec_corr', 'astrometric_n_obs_al', 'astrometric_n_obs_ac', 'astrometric_n_good_obs_al', 'astrometric_n_good_obs_ac', 'astrometric_n_bad_obs_al', 'astrometric_n_bad_obs_ac', 'astrometric_delta_q', 'astrometric_excess_noise', 'astrometric_excess_noise_sig', 'astrometric_primary_flag', 'astrometric_relegation_factor', 'astrometric_weight_al', 'astrometric_weight_ac', 'astrometric_priors_used', 'matched_observations', 'duplicated_source', 'scan_direction_strength_k1', 'scan_direction_strength_k2', 'scan_direction_strength_k3', 'scan_direction_strength_k4', 'scan_direction_mean_k1', 'scan_direction_mean_k2', 'scan_direction_mean_k3', 'scan_direction_mean_k4', 'phot_g_n_obs', 'phot_g_mean_flux', 'phot_g_mean_flux_error', 'phot_g_mean_mag', 'phot_variable_flag', 'l', 'b', 'ecl_lon', 'ecl_lat']\n"
     ]
    }
   ],
   "source": [
    "print rave_data.colnames\n",
    "print rave_tgas_data.colnames"
   ]
  },
  {
   "cell_type": "code",
   "execution_count": null,
   "metadata": {
    "collapsed": true
   },
   "outputs": [],
   "source": []
  }
 ],
 "metadata": {
  "kernelspec": {
   "display_name": "Python 2",
   "language": "python",
   "name": "python2"
  },
  "language_info": {
   "codemirror_mode": {
    "name": "ipython",
    "version": 2
   },
   "file_extension": ".py",
   "mimetype": "text/x-python",
   "name": "python",
   "nbconvert_exporter": "python",
   "pygments_lexer": "ipython2",
   "version": "2.7.13"
  }
 },
 "nbformat": 4,
 "nbformat_minor": 2
}
