{
 "cells": [
  {
   "cell_type": "code",
   "execution_count": 93,
   "metadata": {
    "collapsed": true,
    "deletable": true,
    "editable": true,
    "slideshow": {
     "slide_type": "skip"
    }
   },
   "outputs": [],
   "source": [
    "import sys\n",
    "sys.path.insert(0, \"/home/martin/anaconda2/lib/python2.7/site-packages\")\n",
    "\n",
    "import vaex\n",
    "import pyfits\n",
    "from matplotlib import pyplot as plt\n",
    "from astropy.table import join, Table\n",
    "import ipywidgets as widgets\n",
    "import numpy as np\n",
    "\n",
    "%matplotlib inline\n",
    "\n",
    "import pandas as pd\n",
    "import multiprocessing"
   ]
  },
  {
   "cell_type": "code",
   "execution_count": 86,
   "metadata": {
    "collapsed": false,
    "slideshow": {
     "slide_type": "skip"
    }
   },
   "outputs": [
    {
     "data": {
      "text/html": [
       "<script>\n",
       "code_show=true; \n",
       "function code_toggle() {\n",
       " if (code_show){\n",
       " $('div.input').hide();\n",
       " } else {\n",
       " $('div.input').show();\n",
       " }\n",
       " code_show = !code_show\n",
       "} \n",
       "$( document ).ready(code_toggle);\n",
       "</script>\n",
       "<form action=\"javascript:code_toggle()\"><input type=\"submit\" value=\"Click here to toggle on/off the raw code.\"></form>"
      ],
      "text/plain": [
       "<IPython.core.display.HTML object>"
      ]
     },
     "execution_count": 86,
     "metadata": {},
     "output_type": "execute_result"
    }
   ],
   "source": [
    "from IPython.display import HTML\n",
    "\n",
    "HTML('''<script>\n",
    "code_show=true; \n",
    "function code_toggle() {\n",
    " if (code_show){\n",
    " $('div.input').hide();\n",
    " } else {\n",
    " $('div.input').show();\n",
    " }\n",
    " code_show = !code_show\n",
    "} \n",
    "$( document ).ready(code_toggle);\n",
    "</script>\n",
    "<form action=\"javascript:code_toggle()\"><input type=\"submit\" value=\"Click here to toggle on/off the raw code.\"></form>''')"
   ]
  },
  {
   "cell_type": "code",
   "execution_count": 2,
   "metadata": {
    "collapsed": false,
    "deletable": true,
    "editable": true,
    "scrolled": true,
    "slideshow": {
     "slide_type": "skip"
    }
   },
   "outputs": [],
   "source": [
    "# dat = vaex.open(\"RAVE_TGAS.fits\")\n",
    "# dat1 = Table.read(\"RAVE_DR5.fits\")\n",
    "# dat2 = Table.read(\"RAVE_TGAS.fits\")"
   ]
  },
  {
   "cell_type": "code",
   "execution_count": 3,
   "metadata": {
    "collapsed": false,
    "slideshow": {
     "slide_type": "skip"
    }
   },
   "outputs": [],
   "source": [
    "dat = vaex.open(\"RAVE_merged.fits\")"
   ]
  },
  {
   "cell_type": "code",
   "execution_count": 5,
   "metadata": {
    "collapsed": false,
    "slideshow": {
     "slide_type": "skip"
    }
   },
   "outputs": [],
   "source": [
    "# df1 = dat.to_astropy_table()\n",
    "# df2 = dat2.to_astropy_table()\n",
    "# print dat.all_column_names\n",
    "#df = join(dat1, dat2, keys='RAVE_OBS_ID', join_type='inner')"
   ]
  },
  {
   "cell_type": "code",
   "execution_count": 65,
   "metadata": {
    "collapsed": false,
    "scrolled": true,
    "slideshow": {
     "slide_type": "skip"
    }
   },
   "outputs": [],
   "source": [
    "df = {\"alpha\" : dat[\"Alpha_c\"].columns[\"Alpha_c\"].tolist(),\n",
    "     \"parallax\" : dat[\"parallax_2\"].columns[\"parallax_2\"].tolist(),\n",
    "     \"l\" : dat[\"l\"].columns[\"l\"].tolist(),\n",
    "     \"b\" : dat[\"b\"].columns[\"b\"].tolist(),\n",
    "      \"pmra\" : dat[\"pmra\"].columns[\"pmra\"].tolist(),\n",
    "      \"pmdec\" : dat[\"pmdec\"].columns[\"pmdec\"].tolist(),\n",
    "     \"temp\" : dat[\"Teff_IR\"].columns[\"Teff_IR\"].tolist()}\n",
    "df = pd.DataFrame(df)\n"
   ]
  },
  {
   "cell_type": "code",
   "execution_count": 76,
   "metadata": {
    "collapsed": false,
    "slideshow": {
     "slide_type": "skip"
    }
   },
   "outputs": [
    {
     "data": {
      "text/plain": [
       "False"
      ]
     },
     "execution_count": 76,
     "metadata": {},
     "output_type": "execute_result"
    }
   ],
   "source": [
    "5 < None"
   ]
  },
  {
   "cell_type": "code",
   "execution_count": 99,
   "metadata": {
    "collapsed": false,
    "slideshow": {
     "slide_type": "slide"
    }
   },
   "outputs": [
    {
     "data": {
      "application/vnd.jupyter.widget-view+json": {
       "model_id": "132577850e7f47b08ac5d069efeb4803"
      }
     },
     "metadata": {},
     "output_type": "display_data"
    }
   ],
   "source": [
    "size_groups = [((None, 0.2) ,10), ((0.2, 0.4),20), ((0.6, None),30)]\n",
    "color_groups = [((None, 4000), \"r\"),\n",
    "                ((4000, 5500), \"g\"),\n",
    "               ((5500, 7000), \"b\"),\n",
    "               ((7000, None), \"y\"),]\n",
    "\n",
    "@widgets.interact(dist=(0.01,15,0.01), width=(0.005,1,0.001), l=(0,360,20), window_l = (10,360,10))\n",
    "def slide_thru(dist=0.1, width=0.005, l=200, window_l = 140):\n",
    "    \n",
    "    window_b = 180\n",
    "    \n",
    "    parall = 1. / dist \n",
    "    # parall_rad = 1./ width / 2.    \n",
    "    parall_rad =  width\n",
    "    rdf = df[df[\"parallax\"] > parall - parall_rad]\n",
    "    rdf = rdf[rdf[\"parallax\"] < parall + parall_rad]\n",
    "    rdf = rdf[rdf[\"l\"] < l + window_l / 2.]\n",
    "    rdf = rdf[rdf[\"l\"] >= l - window_l / 2.]\n",
    "       \n",
    "    plt.figure(figsize=(8,6))  \n",
    "    \n",
    "    for gr, size in size_groups:\n",
    "        if gr[0]:\n",
    "            rdf1 = rdf[rdf[\"alpha\"] > gr[0]]\n",
    "        else:\n",
    "            rdf1 = rdf\n",
    "        \n",
    "        if gr[1]:\n",
    "            rdf2 = rdf1[rdf1[\"alpha\"] < gr[1]]\n",
    "            \n",
    "        colors = []\n",
    "        for i, temp in enumerate(rdf2[\"temp\"]):\n",
    "            for gr, col in color_groups:\n",
    "                if gr[0]:\n",
    "                    cond1 = temp > gr[0]\n",
    "                else:\n",
    "                    cond1 = True\n",
    "\n",
    "                if gr[1]:\n",
    "                    cond2 = temp <=gr[1]\n",
    "                else:\n",
    "                    cond2 = True\n",
    "\n",
    "                if cond1 and cond2:\n",
    "                    colors.append(col)\n",
    "                    break     \n",
    "        \n",
    "\n",
    "        plt.quiver(rdf2[\"l\"], rdf2[\"b\"], rdf2[\"pmra\"] / 5., rdf2[\"pmdec\"] / 5. , width=0.008)\n",
    "        plt.scatter(rdf2[\"l\"], rdf2[\"b\"], s=size, color=colors, label=str(gr))\n",
    "          \n",
    "    plt.legend()\n",
    "    plt.show()"
   ]
  },
  {
   "cell_type": "code",
   "execution_count": 47,
   "metadata": {
    "collapsed": false,
    "deletable": true,
    "editable": true,
    "scrolled": true,
    "slideshow": {
     "slide_type": "skip"
    }
   },
   "outputs": [
    {
     "data": {
      "application/vnd.jupyter.widget-view+json": {
       "model_id": "dc8f38cfe78e48d8b4348ee06d6ca8ae"
      }
     },
     "metadata": {},
     "output_type": "display_data"
    }
   ],
   "source": [
    "@widgets.interact(dist=(0.1,15,0.1), width=(0.01,1,0.01), l=(0,360,20), window_l = (10,360,10))\n",
    "def slide_thru2(dist=0.1, width=0.01, l=200, window_l = 140):\n",
    "    \n",
    "    window_b = 180\n",
    "    \n",
    "    parall = 1. / dist \n",
    "    # parall_rad = 1./ width / 2.    \n",
    "    parall_rad =  width\n",
    "    \n",
    "    print parall_rad, parall\n",
    "    print parall - parall_rad, parall + parall_rad\n",
    "    \n",
    "    dat.select(\"parallax_2 > {0}\".format(parall - parall_rad))\n",
    "    dat.select(\"parallax_2 < {0}\".format(parall + parall_rad), mode=\"and\")\n",
    "    \n",
    "    dat.select(\"l > {0}\".format(l - window_l / 2.), mode=\"and\")\n",
    "    dat.select(\"l < {0}\".format(l + window_l / 2.), mode=\"and\")\n",
    "    \n",
    "    # dat.select(\"b > {0}\".format(b - window_b / 2.), mode=\"and\")\n",
    "    # dat.select(\"b < {0}\".format(b + window_b / 2.), mode=\"and\")\n",
    "    dat.scatter(\"l\", \"b\",  selection=True, s_expr=\"Alpha_c*40\", c_expr=\"Teff_IR\", length_check=False)\n",
    "    # dat.scatter(\"l\", \"b\",  selection=True, s_expr=\"sqrt(pmra**2+pmdec**2)\", c_expr=\"Teff_IR\", length_check=False)\n",
    "    # plt.title(\"Actual distance range {0} kpc - {1} kpc\".format())\n",
    "    \n",
    "    plt.show()"
   ]
  },
  {
   "cell_type": "code",
   "execution_count": 72,
   "metadata": {
    "collapsed": false,
    "deletable": true,
    "editable": true,
    "slideshow": {
     "slide_type": "skip"
    }
   },
   "outputs": [
    {
     "data": {
      "text/plain": [
       "[<matplotlib.lines.Line2D at 0x7f6ce1fb7d50>]"
      ]
     },
     "execution_count": 72,
     "metadata": {},
     "output_type": "execute_result"
    },
    {
     "data": {
      "image/png": "[encoded data removed]",
      "text/plain": [
       "<matplotlib.figure.Figure at 0x7f6ce1886c90>"
      ]
     },
     "metadata": {},
     "output_type": "display_data"
    }
   ],
   "source": [
    "dat.plot1d(\"Teff_IR\")"
   ]
  }
 ],
 "metadata": {
  "celltoolbar": "Slideshow",
  "kernelspec": {
   "display_name": "Python 2",
   "language": "python",
   "name": "python2"
  },
  "language_info": {
   "codemirror_mode": {
    "name": "ipython",
    "version": 2
   },
   "file_extension": ".py",
   "mimetype": "text/x-python",
   "name": "python",
   "nbconvert_exporter": "python",
   "pygments_lexer": "ipython2",
   "version": "2.7.13"
  }
 },
 "nbformat": 4,
 "nbformat_minor": 2
}
