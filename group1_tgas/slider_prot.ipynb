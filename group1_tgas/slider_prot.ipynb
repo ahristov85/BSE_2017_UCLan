{
 "cells": [
  {
   "cell_type": "code",
   "execution_count": 1,
   "metadata": {
    "collapsed": true,
    "deletable": true,
    "editable": true,
    "slideshow": {
     "slide_type": "skip"
    }
   },
   "outputs": [],
   "source": [
    "import sys\n",
    "sys.path.insert(0, \"/home/martin/anaconda2/lib/python2.7/site-packages\")\n",
    "\n",
    "import vaex\n",
    "import pyfits\n",
    "from matplotlib import pyplot as plt\n",
    "from astropy.table import join, Table\n",
    "import ipywidgets as widgets\n",
    "import numpy as np\n",
    "\n",
    "%matplotlib inline\n",
    "\n",
    "import pandas as pd\n",
    "import multiprocessing"
   ]
  },
  {
   "cell_type": "code",
   "execution_count": 2,
   "metadata": {
    "collapsed": false,
    "slideshow": {
     "slide_type": "skip"
    }
   },
   "outputs": [
    {
     "data": {
      "text/html": [
       "<script>\n",
       "code_show=true; \n",
       "function code_toggle() {\n",
       " if (code_show){\n",
       " $('div.input').hide();\n",
       " } else {\n",
       " $('div.input').show();\n",
       " }\n",
       " code_show = !code_show\n",
       "} \n",
       "$( document ).ready(code_toggle);\n",
       "</script>\n",
       "<form action=\"javascript:code_toggle()\"><input type=\"submit\" value=\"Click here to toggle on/off the raw code.\"></form>"
      ],
      "text/plain": [
       "<IPython.core.display.HTML object>"
      ]
     },
     "execution_count": 2,
     "metadata": {},
     "output_type": "execute_result"
    }
   ],
   "source": [
    "from IPython.display import HTML\n",
    "\n",
    "HTML('''<script>\n",
    "code_show=true; \n",
    "function code_toggle() {\n",
    " if (code_show){\n",
    " $('div.input').hide();\n",
    " } else {\n",
    " $('div.input').show();\n",
    " }\n",
    " code_show = !code_show\n",
    "} \n",
    "$( document ).ready(code_toggle);\n",
    "</script>\n",
    "<form action=\"javascript:code_toggle()\"><input type=\"submit\" value=\"Click here to toggle on/off the raw code.\"></form>''')"
   ]
  },
  {
   "cell_type": "code",
   "execution_count": 3,
   "metadata": {
    "collapsed": false,
    "deletable": true,
    "editable": true,
    "scrolled": true,
    "slideshow": {
     "slide_type": "skip"
    }
   },
   "outputs": [],
   "source": [
    "# dat = vaex.open(\"RAVE_TGAS.fits\")\n",
    "# dat1 = Table.read(\"RAVE_DR5.fits\")\n",
    "# dat2 = Table.read(\"RAVE_TGAS.fits\")"
   ]
  },
  {
   "cell_type": "code",
   "execution_count": 4,
   "metadata": {
    "collapsed": false,
    "slideshow": {
     "slide_type": "skip"
    }
   },
   "outputs": [],
   "source": [
    "dat = vaex.open(\"RAVE_merged.fits\")"
   ]
  },
  {
   "cell_type": "code",
   "execution_count": 5,
   "metadata": {
    "collapsed": false,
    "slideshow": {
     "slide_type": "skip"
    }
   },
   "outputs": [
    {
     "data": {
      "text/plain": [
       "<matplotlib.image.AxesImage at 0x7feb45554410>"
      ]
     },
     "execution_count": 5,
     "metadata": {},
     "output_type": "execute_result"
    },
    {
     "data": {
      "image/png": "[encoded data removed]",
      "text/plain": [
       "<matplotlib.figure.Figure at 0x7feb795e2290>"
      ]
     },
     "metadata": {},
     "output_type": "display_data"
    }
   ],
   "source": [
    "dat.plot(\"logg_K\", \"logg_N_K\")"
   ]
  },
  {
   "cell_type": "code",
   "execution_count": 6,
   "metadata": {
    "collapsed": false,
    "slideshow": {
     "slide_type": "skip"
    }
   },
   "outputs": [],
   "source": [
    "# df1 = dat.to_astropy_table()\n",
    "# df2 = dat2.to_astropy_table()\n",
    "# print dat.all_column_names\n",
    "#df = join(dat1, dat2, keys='RAVE_OBS_ID', join_type='inner')"
   ]
  },
  {
   "cell_type": "code",
   "execution_count": 7,
   "metadata": {
    "collapsed": false,
    "scrolled": true,
    "slideshow": {
     "slide_type": "skip"
    }
   },
   "outputs": [],
   "source": [
    "df = {\"alpha\" : dat[\"Alpha_c\"].columns[\"Alpha_c\"].tolist(),\n",
    "     \"dist\" : (1./ dat[\"parallax_2\"].columns[\"parallax_2\"]).tolist(),\n",
    "     \"l\" : dat[\"l\"].columns[\"l\"].tolist(),\n",
    "     \"b\" : dat[\"b\"].columns[\"b\"].tolist(),\n",
    "      \"pmra\" : dat[\"pmra\"].columns[\"pmra\"].tolist(),\n",
    "      \"grav\" : dat[\"logg_N_K\"].columns[\"logg_N_K\"].tolist(),\n",
    "      \"met\" : dat[\"Met_N_K\"].columns[\"Met_N_K\"].tolist(),\n",
    "      \"pmdec\" : dat[\"pmdec\"].columns[\"pmdec\"].tolist(),\n",
    "     \"temp\" : dat[\"Teff_IR\"].columns[\"Teff_IR\"].tolist()}\n",
    "df = pd.DataFrame(df)\n"
   ]
  },
  {
   "cell_type": "code",
   "execution_count": 17,
   "metadata": {
    "collapsed": false,
    "slideshow": {
     "slide_type": "slide"
    }
   },
   "outputs": [
    {
     "data": {
      "application/vnd.jupyter.widget-view+json": {
       "model_id": "3401f5bfcd624555896c2f8edb2ad78a"
      }
     },
     "metadata": {},
     "output_type": "display_data"
    }
   ],
   "source": [
    "size_groups = [((None, 3.0) ,80, \"Giants\"),\n",
    "               ((3.0, None),10, \"Dwarfs\")]\n",
    "\n",
    "@widgets.interact(dist=(0.01,5.0,0.002), width=(0.001,1,0.009), l=(0,360,20), window_l = (10,360,2), arr=[True,False])\n",
    "def slide_thru(dist=0.8, width=0.01, l=200, window_l = 140, arr=True):\n",
    "    \n",
    "    window_b = 180\n",
    "    \n",
    "    \n",
    "    rdf = df[df[\"dist\"] > dist - width / 2.]\n",
    "    rdf = rdf[rdf[\"dist\"] < dist + width /2.0]\n",
    "    rdf = rdf[rdf[\"l\"] < l + window_l / 2.]\n",
    "    rdf = rdf[rdf[\"l\"] >= l - window_l / 2.]\n",
    "       \n",
    "    plt.figure(figsize=(9,7))  \n",
    "        \n",
    "    for gr, size, lab in size_groups:\n",
    "        if gr[0]:\n",
    "            rdf1 = rdf[rdf[\"grav\"] > gr[0]]\n",
    "        else:\n",
    "            rdf1 = rdf\n",
    "        \n",
    "        if gr[1]:\n",
    "            rdf2 = rdf1[rdf1[\"grav\"] < gr[1]]\n",
    "            \n",
    "            \n",
    "        \n",
    "        if arr:\n",
    "            plt.quiver(rdf2[\"l\"], rdf2[\"b\"], rdf2[\"pmra\"] / 5., rdf2[\"pmdec\"] / 5. , width=0.008)\n",
    "        plt.scatter(rdf2[\"l\"], rdf2[\"b\"], s=size, c=rdf2[\"met\"], vmin=-1.5, vmax=0.5, cmap=\"jet\", label=lab)\n",
    "        \n",
    "    plt.title(\"Slice of width {0} pc around {1} pc from the Earth\".format(dist*1000, width*1000))\n",
    "    plt.xlabel(\"l [deg]\")\n",
    "    plt.ylabel(\"b [deg]\")\n",
    "    plt.colorbar()      \n",
    "    plt.legend()\n",
    "    plt.show()"
   ]
  },
  {
   "cell_type": "code",
   "execution_count": 9,
   "metadata": {
    "collapsed": false,
    "deletable": true,
    "editable": true,
    "slideshow": {
     "slide_type": "skip"
    }
   },
   "outputs": [
    {
     "data": {
      "text/plain": [
       "[<matplotlib.lines.Line2D at 0x7feb451b9390>]"
      ]
     },
     "execution_count": 9,
     "metadata": {},
     "output_type": "execute_result"
    },
    {
     "data": {
      "image/png": "[encoded data removed]",
      "text/plain": [
       "<matplotlib.figure.Figure at 0x7feb440b6a50>"
      ]
     },
     "metadata": {},
     "output_type": "display_data"
    }
   ],
   "source": [
    "dat.plot1d(\"logg_N_K\")"
   ]
  }
 ],
 "metadata": {
  "celltoolbar": "Slideshow",
  "kernelspec": {
   "display_name": "Python 2",
   "language": "python",
   "name": "python2"
  },
  "language_info": {
   "codemirror_mode": {
    "name": "ipython",
    "version": 2
   },
   "file_extension": ".py",
   "mimetype": "text/x-python",
   "name": "python",
   "nbconvert_exporter": "python",
   "pygments_lexer": "ipython2",
   "version": "2.7.13"
  }
 },
 "nbformat": 4,
 "nbformat_minor": 2
}
