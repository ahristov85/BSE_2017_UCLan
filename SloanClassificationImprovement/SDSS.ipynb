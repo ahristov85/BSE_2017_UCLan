{
 "cells": [
  {
   "cell_type": "markdown",
   "metadata": {},
   "source": [
    "# SDSS dataset"
   ]
  },
  {
   "cell_type": "markdown",
   "metadata": {},
   "source": [
    "## Description"
   ]
  },
  {
   "cell_type": "markdown",
   "metadata": {},
   "source": [
    "We propose to classify (a subset of) SDSS DR7 catalog and compare our results to the ones provided by the catalog itself. To this purpose we define these visualizations:\n",
    "\n",
    "* SCA vs SDSS classification globe: This chart allows to visualize the sources (SDSS xor SCA xor ERR) in a globe according to their positions (ra, dec).\n",
    "* PSF vs CMODEL: This plot represents the SDSS stars/galaxies classification, according to the classification funcion PSF - CMODEL > 0.145 used by SDSS classification system. We will also display our own classification using different colors for stars and galaxies.\n",
    "* Histogram charts in order to display the amount of objects classified as stars or galaxies by both SDSS and SCA.\n",
    "* Histogram plots that display the amount of objects missclasfied per band (u, g, r, i, z)\n",
    "* Radius plot that shows the expected value (and confidence intervals) for SDSS classification, SCA classification and misclassifications.\n",
    "\n",
    "All these visualizations allows to select which data are displayed: stars or galaxies (or both of them simultaneously)."
   ]
  },
  {
   "cell_type": "code",
   "execution_count": null,
   "metadata": {
    "collapsed": true
   },
   "outputs": [],
   "source": []
  }
 ],
 "metadata": {
  "kernelspec": {
   "display_name": "Python 2",
   "language": "python",
   "name": "python2"
  },
  "language_info": {
   "codemirror_mode": {
    "name": "ipython",
    "version": 2
   },
   "file_extension": ".py",
   "mimetype": "text/x-python",
   "name": "python",
   "nbconvert_exporter": "python",
   "pygments_lexer": "ipython2",
   "version": "2.7.9"
  }
 },
 "nbformat": 4,
 "nbformat_minor": 2
}
